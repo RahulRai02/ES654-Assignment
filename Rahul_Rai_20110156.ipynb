{
  "cells": [
    {
      "cell_type": "code",
      "execution_count": null,
      "id": "0df3e2f8",
      "metadata": {
        "id": "0df3e2f8"
      },
      "outputs": [],
      "source": [
        "import numpy as np\n",
        "import pandas as pd\n",
        "import time\n",
        "import random"
      ]
    },
    {
      "cell_type": "markdown",
      "id": "4ab3f021",
      "metadata": {
        "id": "4ab3f021"
      },
      "source": [
        "## Q1 How many multiplications and additions do you need to perform a matrix multiplication between a (n, k) and (k, m) matrix? Explain."
      ]
    },
    {
      "cell_type": "markdown",
      "id": "e2aeaef1",
      "metadata": {
        "id": "e2aeaef1"
      },
      "source": [
        "Ans1. For matrix multiplication of the matrix A(n,k) and B(k,m), we need to perform n * k * m multiplications in total. For each row of matrix A, we need to multiply it with the first column of matrix B which will lead to k multiplications. For each row, we need to consider each and every column for multiplication so k * m multiplications. We need to consider each row, therefore total of n * k * m multiplications.\n",
        "\n",
        "For additions, the answer should be n * (k - 1) * m. For each row multiplied with its column there will be (k - 1) additions in between. The rest explaination for n * m remains the same. "
      ]
    },
    {
      "cell_type": "markdown",
      "source": [
        "## Q2 Write Python code to multiply the above two matrices. Solve using list of lists and then use numpy. Compare the timing of both solutions. Which one is faster? Why?"
      ],
      "metadata": {
        "id": "wQ7J9SLxk3Re"
      },
      "id": "wQ7J9SLxk3Re"
    },
    {
      "cell_type": "code",
      "source": [
        "# First generate 2 random matrices which we will use for further computation\n",
        "import random\n",
        "\n",
        "# Change the value according to your requirements\n",
        "global n,k,m\n",
        "n = 97\n",
        "k = 99\n",
        "m = 80\n",
        "\n",
        "np.random.seed(42)\n",
        "A = np.random.randint(0,10, size=(n,k))\n",
        "B = np.random.randint(0,10, size=(k,m))\n",
        "\n",
        "# If you want to print matrix, uncomment below code\n",
        "# for a in A:\n",
        "#     print(a)\n",
        "# print(\"\\n\")\n",
        "\n",
        "# for b in B:\n",
        "#     print(b)\n",
        "# print(\"\\n\")\n"
      ],
      "metadata": {
        "id": "eKecETQqk1BK"
      },
      "id": "eKecETQqk1BK",
      "execution_count": 41,
      "outputs": []
    },
    {
      "cell_type": "code",
      "source": [
        "# By list calculation \n",
        "%%timeit -n 10\n",
        "result = [[ 0 for i in range(n)] for j in range(n)]\n",
        "\n",
        "# start_time = time.time();\n",
        "for i in range(len(A)):\n",
        "    for j in range(len(B[0])):\n",
        "        for k in range(len(B)):\n",
        "            result[i][j] += A[i][k] * B[k][j]\n",
        "\n",
        "# If you want to print matrix, uncomment below code\n",
        "# for r in result: \n",
        "#   print(r)\n",
        "  \n",
        "\n",
        "# print(\"\\n\")\n",
        "# print(\"The time taken is\", time.time() - start_time)\n",
        "# t1 =  time.time() - start_time"
      ],
      "metadata": {
        "colab": {
          "base_uri": "https://localhost:8080/"
        },
        "id": "IinwEiMtouyI",
        "outputId": "3342719b-84d2-4507-d4d1-5e87d44b6e39"
      },
      "id": "IinwEiMtouyI",
      "execution_count": 47,
      "outputs": [
        {
          "output_type": "stream",
          "name": "stdout",
          "text": [
            "571 ms ± 57.9 ms per loop (mean ± std. dev. of 7 runs, 10 loops each)\n"
          ]
        }
      ]
    },
    {
      "cell_type": "code",
      "source": [
        "# By numpy inbuilt function for multiplication\n",
        "%%timeit -n 10\n",
        "# start_time = time.time();\n",
        "C = np.matmul(A, B)\n",
        "# If you want to print matrix, uncomment below code\n",
        "# for c in C:\n",
        "  # print(c)\n",
        "\n",
        "# print(\"\\n\")\n",
        "# print(\"The time taken is\", time.time() - start_time)\n",
        "# t2 =  time.time() - start_time"
      ],
      "metadata": {
        "colab": {
          "base_uri": "https://localhost:8080/"
        },
        "id": "J0yZnA4qpXc4",
        "outputId": "d9d45762-5d93-4185-86c8-a1681d90be7c"
      },
      "id": "J0yZnA4qpXc4",
      "execution_count": 49,
      "outputs": [
        {
          "output_type": "stream",
          "name": "stdout",
          "text": [
            "999 µs ± 489 µs per loop (mean ± std. dev. of 7 runs, 10 loops each)\n"
          ]
        }
      ]
    },
    {
      "cell_type": "code",
      "source": [
        "# We can clearly see that the numpy built-in function takes less time than the normal function. Therefore built-in function \n",
        "# for matrix multiplication is faster."
      ],
      "metadata": {
        "id": "N-QdXHvtpyzQ"
      },
      "id": "N-QdXHvtpyzQ",
      "execution_count": 51,
      "outputs": []
    },
    {
      "cell_type": "markdown",
      "id": "a4c7fb33",
      "metadata": {
        "id": "a4c7fb33"
      },
      "source": [
        "## Q3 Finding the highest element in a list requires one pass of the array. Finding the second highest element requires 2 passes of the the array. Using this method, what is the time complexity of finding the median of the array? Can you suggest a better method? Can you implement both these methods in Python and compare against numpy.median routine in terms of time?"
      ]
    },
    {
      "cell_type": "code",
      "execution_count": 52,
      "id": "30057139",
      "metadata": {
        "id": "30057139"
      },
      "outputs": [],
      "source": [
        "import time\n",
        "import numpy as np"
      ]
    },
    {
      "cell_type": "code",
      "source": [
        "arr = np.array([1, 15, 24, 99, 22, 2, 5, 3, 56, 54, 65, 55, 87, 76])\n",
        "\n",
        "# Finding median by sorting method\n",
        "def getMedian(arr):\n",
        "    arr.sort()    \n",
        "    # print(arr)\n",
        "        \n",
        "    size = len(arr)\n",
        "    mid = (size - 1)//2\n",
        "    if(size % 2 != 0):\n",
        "        return arr[mid]\n",
        "    else:\n",
        "        return (arr[mid] + arr[mid + 1])/2.0\n",
        "\n",
        "def getMedianUsingMax(arr):\n",
        "    n = len(arr)\n",
        "    while(len / 2 >= 0):\n",
        "      ans = findMax(arr)\n",
        "    if(len % 2 != 0){\n",
        "        return ans\n",
        "    }\n",
        "\n"
      ],
      "metadata": {
        "id": "y_Et1zleqpTU"
      },
      "id": "y_Et1zleqpTU",
      "execution_count": 60,
      "outputs": []
    },
    {
      "cell_type": "code",
      "source": [
        "%%timeit -n 10\n",
        "\n",
        "# Get median in O(n logn) time \n",
        "getMedian(arr)"
      ],
      "metadata": {
        "colab": {
          "base_uri": "https://localhost:8080/"
        },
        "id": "4pCyAoTjrP3O",
        "outputId": "1dbf018b-4891-4b68-eab2-f0d613dac13e"
      },
      "id": "4pCyAoTjrP3O",
      "execution_count": 64,
      "outputs": [
        {
          "output_type": "stream",
          "name": "stdout",
          "text": [
            "The slowest run took 12.22 times longer than the fastest. This could mean that an intermediate result is being cached.\n",
            "14.4 µs ± 21.2 µs per loop (mean ± std. dev. of 7 runs, 10 loops each)\n"
          ]
        }
      ]
    },
    {
      "cell_type": "code",
      "source": [
        "%%timeit -n 10\n",
        "arr = np.array([1, 15, 24, 99, 22, 2, 5, 3, 56, 54, 65, 55, 87, 76])\n",
        "\n",
        "# Get median in O(1) time\n",
        "# Using numpy function median\n",
        "# start_time2 = time.time()\n",
        "np.median(arr)\n",
        "# t2 = time.time() - start_time2\n",
        "# print(time.time() - start_time2,\"seconds for built-in function\")"
      ],
      "metadata": {
        "colab": {
          "base_uri": "https://localhost:8080/"
        },
        "id": "UX4nDwKqq5zB",
        "outputId": "27675087-aa25-41ad-e50e-e3dc69eeff24"
      },
      "id": "UX4nDwKqq5zB",
      "execution_count": 65,
      "outputs": [
        {
          "output_type": "stream",
          "name": "stdout",
          "text": [
            "The slowest run took 5.76 times longer than the fastest. This could mean that an intermediate result is being cached.\n",
            "66.2 µs ± 57.2 µs per loop (mean ± std. dev. of 7 runs, 10 loops each)\n"
          ]
        }
      ]
    },
    {
      "cell_type": "code",
      "source": [
        "# The results obtained shows the sorting method to be faster than the inbuilt median function."
      ],
      "metadata": {
        "id": "5eHa8POV3GAn"
      },
      "id": "5eHa8POV3GAn",
      "execution_count": 66,
      "outputs": []
    },
    {
      "cell_type": "markdown",
      "id": "e121e424",
      "metadata": {
        "id": "e121e424"
      },
      "source": [
        "## Q4 What is the gradient of the following function with respect to x and y?"
      ]
    },
    {
      "cell_type": "markdown",
      "id": "30ba7916",
      "metadata": {
        "id": "30ba7916"
      },
      "source": [
        "Ans 4.For the function f(x) = (x^2)y + (y^3)sin(x). Gradient of the function wrt x will be the partial differentiation wrt x which will be 2xy + (y^3)cos(x).\n",
        "For calculating gradient wrt y, the answer would be (x^2) + 3 (y^2)sin(x).\n",
        "\n",
        "Gradient of  f(x) = (x^2)y + (y^3)sin(x) = [2xy + (y^3)cos(x),x^2) + 3 (y^2)sin(x) ]\n",
        "\n",
        "\\begin{align*}\n",
        "\\nabla f &= \\begin{bmatrix} \\frac{\\partial f}{\\partial x} \\\\ \\frac{\\partial f}{\\partial y} \\end{bmatrix} \\\\\n",
        "&= \\begin{bmatrix} \\frac{\\partial}{\\partial x} (x^2y + y^3\\sin(x)) \\\\ \\frac{\\partial}{\\partial y} (x^2y + y^3\\sin(x)) \\end{bmatrix} \\\\\n",
        "&= \\begin{bmatrix} 2xy + y^3\\cos(x) \\\\ x^2 + 3y^2\\sin(x) \\end{bmatrix}\n",
        "\\end{align*}\n"
      ]
    },
    {
      "cell_type": "markdown",
      "id": "7d05f475",
      "metadata": {
        "id": "7d05f475"
      },
      "source": [
        "## Q5 Use JAX to confirm the gradient evaluated by your method matches the analytical solution corresponding to a few random values of x and y"
      ]
    },
    {
      "cell_type": "code",
      "source": [
        "import jax\n",
        "import jax.numpy as jnp\n",
        "import random"
      ],
      "metadata": {
        "id": "D8KDpxdbubGk"
      },
      "id": "D8KDpxdbubGk",
      "execution_count": 69,
      "outputs": []
    },
    {
      "cell_type": "code",
      "execution_count": 70,
      "id": "8026804c",
      "metadata": {
        "colab": {
          "base_uri": "https://localhost:8080/"
        },
        "id": "8026804c",
        "outputId": "3a3aaccb-d5ce-4a9e-b04a-89ec71f448c6"
      },
      "outputs": [
        {
          "output_type": "stream",
          "name": "stdout",
          "text": [
            "The gradient wrt x using JAX is  0.19371438\n",
            "The gradient wrt y using JAX is 0.07144639\n",
            "The gradient calculated analytically is:  [0.19371438 0.07144639]\n"
          ]
        }
      ],
      "source": [
        "def f(x, y):\n",
        "    return x**2*y + y**3*jnp.sin(x)\n",
        "\n",
        "def calculatedGrad(x, y):\n",
        "  return jnp.array([2*x*y + y**3*jnp.cos(x), x**2 + 3*y**2*jnp.sin(x)])\n",
        "\n",
        "\n",
        "df_dx = jax.grad(f, argnums=0)\n",
        "\n",
        "df_dy = jax.grad(f, argnums=1)\n",
        "\n",
        "\n",
        "x = random.random()\n",
        "y = random.random()\n",
        "\n",
        "print(\"The gradient wrt x using JAX is \",df_dx(x, y))\n",
        "print(\"The gradient wrt y using JAX is\", df_dy(x, y))\n",
        "\n",
        "print(\"The gradient calculated analytically is: \", calculatedGrad(x, y))\n"
      ]
    },
    {
      "cell_type": "markdown",
      "source": [
        "## Q6 Use sympy to confirm that you obtain the same gradient analytically."
      ],
      "metadata": {
        "id": "cLp5h9kJbAQc"
      },
      "id": "cLp5h9kJbAQc"
    },
    {
      "cell_type": "code",
      "source": [
        "import sympy\n",
        "from sympy.vector import gradient\n",
        "from sympy import symbols"
      ],
      "metadata": {
        "id": "gstpDr2mbDzy"
      },
      "id": "gstpDr2mbDzy",
      "execution_count": 23,
      "outputs": []
    },
    {
      "cell_type": "code",
      "source": [
        "#Symbols\n",
        "x, y = symbols('x,y')\n",
        "# Function\n",
        "f = x * x * y + y * y * y*sympy.sin(x)"
      ],
      "metadata": {
        "id": "mx-CTzptbP_Q"
      },
      "id": "mx-CTzptbP_Q",
      "execution_count": 24,
      "outputs": []
    },
    {
      "cell_type": "code",
      "source": [
        "print(\"Partial diff. wrt x\",f.diff(x))\n",
        "\n",
        "print(\"Partial diff. wrt y\",f.diff(y))"
      ],
      "metadata": {
        "colab": {
          "base_uri": "https://localhost:8080/"
        },
        "id": "qp0v4zQ7b1sw",
        "outputId": "41f3c167-30f8-4356-bcf4-726633b18f66"
      },
      "id": "qp0v4zQ7b1sw",
      "execution_count": 28,
      "outputs": [
        {
          "output_type": "stream",
          "name": "stdout",
          "text": [
            "Partial diff. wrt x 2*x*y + y**3*cos(x)\n",
            "Partial diff. wrt y x**2 + 3*y**2*sin(x)\n"
          ]
        }
      ]
    },
    {
      "cell_type": "markdown",
      "id": "ca781440",
      "metadata": {
        "id": "ca781440"
      },
      "source": [
        "## Q7 Create a Python nested dictionary to represent hierarchical information. We want to store record of students and their marks. Something like:"
      ]
    },
    {
      "cell_type": "code",
      "execution_count": 71,
      "id": "435ade2a",
      "metadata": {
        "id": "435ade2a"
      },
      "outputs": [],
      "source": [
        "# Ans7\n",
        "\n",
        "nd = {\n",
        "    \"2022\" : {\n",
        "    \"Branch1\":{\n",
        "        \"1\":{\"Roll Number\": 20110156,\"Name\": \"Rahul\", \"Marks\":{\n",
        "            \"Maths\": 100, \"English\": 70,\n",
        "        }},\n",
        "        \"2\":{\n",
        "            \"Roll Number\": 201101111,\"Name\": \"Rohan\", \"Marks\":{\n",
        "            \"Maths\": 10, \"English\": 90\n",
        "        }\n",
        "        },\n",
        "        \"3\":{\n",
        "            \"Roll Number\": 201119432,\"Name\": \"Raj\", \"Marks\":{\n",
        "            \"Maths\": 30, \"English\": 90,\n",
        "        }\n",
        "        },\n",
        "    },\n",
        "    \"Branch2\":{}\n",
        "},\n",
        "2023:{\n",
        "    \"Branch1\":{},\n",
        "    \"Branch2\":{}\n",
        "},\n",
        "2024:{\n",
        "    \"Branch1\":{},\n",
        "    \"Branch2\":{}\n",
        "},\n",
        "2025:{\n",
        "    \"Branch1\":{},\n",
        "    \"Branch2\":{}\n",
        "},}\n"
      ]
    },
    {
      "cell_type": "markdown",
      "source": [
        "## Q8 Store the same information using Python classes. We have an overall database which is a list of year objects. Each year contains a list of branches. Each branch contains a list of students. Each student has some properties like name, roll number and has marks in some subjects."
      ],
      "metadata": {
        "id": "e5vU95N7CE6l"
      },
      "id": "e5vU95N7CE6l"
    },
    {
      "cell_type": "code",
      "source": [
        "class Database:\n",
        "  def __init__(self):\n",
        "      self.years = []\n",
        "\n",
        "class Year:\n",
        "  def __init__(self):\n",
        "    self.branches = []\n",
        "\n",
        "class Branch:\n",
        "  def __init__(self):\n",
        "    self.students = []\n",
        "\n",
        "class Student:\n",
        "  def __init__(self, name, rollno, marks):\n",
        "    self.name = name\n",
        "    self.rollno = rollno\n",
        "    self.marks = marks\n",
        "\n",
        "# Object creation\n",
        "s = Student(\"Rahul\", '20110156', {'Maths': 100, 'English': 100})\n"
      ],
      "metadata": {
        "id": "EYXBCPIaCJ0U"
      },
      "id": "EYXBCPIaCJ0U",
      "execution_count": 74,
      "outputs": []
    },
    {
      "cell_type": "markdown",
      "id": "f45ea997",
      "metadata": {
        "id": "f45ea997"
      },
      "source": [
        "## Q9 Using matplotlib plot the following functions on the domain: x = 0.5 to 100.0 in steps of 0."
      ]
    },
    {
      "cell_type": "code",
      "execution_count": 48,
      "id": "52ac1870",
      "metadata": {
        "id": "52ac1870"
      },
      "outputs": [],
      "source": [
        "import matplotlib.pyplot as plt\n",
        "\n",
        "%matplotlib inline\n",
        "\n",
        "x = np.arange(0.5, 100, 0.5)\n",
        "# print(x)"
      ]
    },
    {
      "cell_type": "code",
      "execution_count": 49,
      "id": "5cb54adb",
      "metadata": {
        "colab": {
          "base_uri": "https://localhost:8080/",
          "height": 282
        },
        "id": "5cb54adb",
        "outputId": "c8b66e69-c9b2-4935-b0d1-69051c4956e3"
      },
      "outputs": [
        {
          "output_type": "execute_result",
          "data": {
            "text/plain": [
              "[<matplotlib.lines.Line2D at 0x7f1fb6e68220>]"
            ]
          },
          "metadata": {},
          "execution_count": 49
        },
        {
          "output_type": "display_data",
          "data": {
            "text/plain": [
              "<Figure size 432x288 with 1 Axes>"
            ],
            "image/png": "[encoded data removed]"
          },
          "metadata": {
            "needs_background": "light"
          }
        }
      ],
      "source": [
        "y = x\n",
        "\n",
        "plt.plot(x,y)"
      ]
    },
    {
      "cell_type": "code",
      "execution_count": 50,
      "id": "23d48874",
      "metadata": {
        "colab": {
          "base_uri": "https://localhost:8080/",
          "height": 282
        },
        "id": "23d48874",
        "outputId": "82fea53e-5640-4d5b-9b1d-339700660a42"
      },
      "outputs": [
        {
          "output_type": "execute_result",
          "data": {
            "text/plain": [
              "[<matplotlib.lines.Line2D at 0x7f1fb699ba90>]"
            ]
          },
          "metadata": {},
          "execution_count": 50
        },
        {
          "output_type": "display_data",
          "data": {
            "text/plain": [
              "<Figure size 432x288 with 1 Axes>"
            ],
            "image/png": "[encoded data removed]"
          },
          "metadata": {
            "needs_background": "light"
          }
        }
      ],
      "source": [
        "y = pow(x, 2)\n",
        "plt.plot(x, y)"
      ]
    },
    {
      "cell_type": "code",
      "execution_count": 51,
      "id": "91c13b8a",
      "metadata": {
        "colab": {
          "base_uri": "https://localhost:8080/",
          "height": 282
        },
        "id": "91c13b8a",
        "outputId": "add9ad7b-3bf7-49ff-b5ae-629b04ccdd78"
      },
      "outputs": [
        {
          "output_type": "execute_result",
          "data": {
            "text/plain": [
              "[<matplotlib.lines.Line2D at 0x7f1fb69772b0>]"
            ]
          },
          "metadata": {},
          "execution_count": 51
        },
        {
          "output_type": "display_data",
          "data": {
            "text/plain": [
              "<Figure size 432x288 with 1 Axes>"
            ],
            "image/png": "[encoded data removed]"
          },
          "metadata": {
            "needs_background": "light"
          }
        }
      ],
      "source": [
        "y = (pow(x, 3)/100)\n",
        "plt.plot(x, y)"
      ]
    },
    {
      "cell_type": "code",
      "execution_count": null,
      "id": "f61f55d3",
      "metadata": {
        "id": "f61f55d3",
        "outputId": "3a798ed8-eab1-4865-f144-41bf7b12630e"
      },
      "outputs": [
        {
          "data": {
            "text/plain": [
              "[<matplotlib.lines.Line2D at 0x11ab06280>]"
            ]
          },
          "execution_count": 35,
          "metadata": {},
          "output_type": "execute_result"
        },
        {
          "data": {
            "image/png": "[encoded data removed]",
            "text/plain": [
              "<Figure size 640x480 with 1 Axes>"
            ]
          },
          "metadata": {},
          "output_type": "display_data"
        }
      ],
      "source": [
        "y = np.sin(x)\n",
        "plt.plot(x, y)"
      ]
    },
    {
      "cell_type": "code",
      "execution_count": null,
      "id": "c8ba712b",
      "metadata": {
        "id": "c8ba712b",
        "outputId": "57008812-da12-4a92-825b-8782ea6d303b"
      },
      "outputs": [
        {
          "data": {
            "text/plain": [
              "[<matplotlib.lines.Line2D at 0x11abf1310>]"
            ]
          },
          "execution_count": 37,
          "metadata": {},
          "output_type": "execute_result"
        },
        {
          "data": {
            "image/png": "[encoded data removed]",
            "text/plain": [
              "<Figure size 640x480 with 1 Axes>"
            ]
          },
          "metadata": {},
          "output_type": "display_data"
        }
      ],
      "source": [
        "y = np.sin(x)/x\n",
        "plt.plot(x, y)"
      ]
    },
    {
      "cell_type": "code",
      "execution_count": null,
      "id": "fbc1fb56",
      "metadata": {
        "id": "fbc1fb56",
        "outputId": "1d6a839b-0375-4de3-f7e8-a436279f9b9d"
      },
      "outputs": [
        {
          "data": {
            "text/plain": [
              "[<matplotlib.lines.Line2D at 0x11ac6a730>]"
            ]
          },
          "execution_count": 38,
          "metadata": {},
          "output_type": "execute_result"
        },
        {
          "data": {
            "image/png": "[encoded data removed]",
            "text/plain": [
              "<Figure size 640x480 with 1 Axes>"
            ]
          },
          "metadata": {},
          "output_type": "display_data"
        }
      ],
      "source": [
        "y = np.log(x)\n",
        "plt.plot(x, y)"
      ]
    },
    {
      "cell_type": "code",
      "execution_count": null,
      "id": "27369c44",
      "metadata": {
        "id": "27369c44",
        "outputId": "4b3bf38c-2493-47b0-b05f-b64532891a7f"
      },
      "outputs": [
        {
          "data": {
            "text/plain": [
              "[<matplotlib.lines.Line2D at 0x11acd7b20>]"
            ]
          },
          "execution_count": 39,
          "metadata": {},
          "output_type": "execute_result"
        },
        {
          "data": {
            "image/png": "[encoded data removed]",
            "text/plain": [
              "<Figure size 640x480 with 1 Axes>"
            ]
          },
          "metadata": {},
          "output_type": "display_data"
        }
      ],
      "source": [
        "y = np.exp(x)\n",
        "plt.plot(x, y)"
      ]
    },
    {
      "cell_type": "markdown",
      "id": "44346154",
      "metadata": {
        "id": "44346154"
      },
      "source": [
        "## Q10 Using numpy generate a matrix of size 20X5 containing random numbers drawn uniformly from the range of 1 to 2. Using Pandas create a dataframe out of this matrix. Name the columns of the dataframe as “a”, “b”, “c”, “d”, “e”. Find the column with the highest standard deviation. Find the row with the lowest mean."
      ]
    },
    {
      "cell_type": "code",
      "execution_count": 79,
      "id": "5f345db8",
      "metadata": {
        "colab": {
          "base_uri": "https://localhost:8080/"
        },
        "id": "5f345db8",
        "outputId": "1880ae95-9630-49a6-9d4b-04ae61ab8249"
      },
      "outputs": [
        {
          "output_type": "stream",
          "name": "stdout",
          "text": [
            "\n",
            "Get a dataframe out of the matrix m \n",
            "\n",
            "           a         b         c         d         e\n",
            "0   1.366015  1.304070  1.008555  1.833608  1.087433\n",
            "1   1.630755  1.504075  1.526689  1.926713  1.031615\n",
            "2   1.773392  1.052052  1.038154  1.429818  1.063075\n",
            "3   1.789144  1.529563  1.029039  1.040501  1.612669\n",
            "4   1.806112  1.437800  1.554581  1.799829  1.610506\n",
            "5   1.224760  1.613052  1.628279  1.734107  1.620874\n",
            "6   1.969242  1.197288  1.951091  1.538339  1.671956\n",
            "7   1.099462  1.380576  1.769379  1.706911  1.040139\n",
            "8   1.546594  1.088278  1.995856  1.897297  1.021081\n",
            "9   1.858650  1.919430  1.353548  1.719502  1.442104\n",
            "10  1.655232  1.340317  1.322559  1.424434  1.145568\n",
            "11  1.831139  1.348698  1.400150  1.894055  1.496624\n",
            "12  1.544254  1.956498  1.886726  1.169467  1.473215\n",
            "13  1.971296  1.372366  1.371573  1.195030  1.114323\n",
            "14  1.740305  1.770030  1.969013  1.773418  1.243352\n",
            "15  1.040117  1.985437  1.340451  1.311972  1.905955\n",
            "16  1.585100  1.214871  1.889096  1.993361  1.086679\n",
            "17  1.862252  1.390516  1.524072  1.914816  1.973379\n",
            "18  1.262164  1.212851  1.080517  1.561798  1.013604\n",
            "19  1.411898  1.073384  1.405226  1.039932  1.835217\n",
            "\n",
            "\n",
            "c\n",
            "\n",
            "\n",
            "18\n",
            "\n",
            "\n"
          ]
        }
      ],
      "source": [
        "m = np.random.uniform(1, 2, size = (20, 5))\n",
        "# print(m)\n",
        "\n",
        "print('')\n",
        "print('Get a dataframe out of the matrix m',\"\\n\")\n",
        "\n",
        "df = pd.DataFrame(m, columns = ['a', 'b', 'c', 'd', 'e'])\n",
        "print(df)\n",
        "print('\\n')\n",
        "\n",
        "# Find standard deviation of each column using .std() and fine the maximum among all of them using max.\n",
        "# print(df.std())\n",
        "print(df.std().idxmax())\n",
        "print('\\n')\n",
        "\n",
        "# Row with lowest mean\n",
        "# print(df.mean(axis = 1))\n",
        "print(df.mean(axis = 1).idxmin())\n",
        "print('\\n')"
      ]
    },
    {
      "cell_type": "markdown",
      "id": "47a20c09",
      "metadata": {
        "id": "47a20c09"
      },
      "source": [
        "\n",
        "## Q11 Add a new column to the dataframe called “f” which is the sum of the columns “a”, “b”, “c”, “d”, “e”. Create another column called “g”. The value in the column “g” should be “LT8” if the value in the column “f” is less than 8 and “GT8” otherwise. Find the number of rows in the dataframe where the value in the column “g” is “LT8”. Find the standard deviation of the column “f” for the rows where the value in the column “g” is “LT8” and “GT8” respectively."
      ]
    },
    {
      "cell_type": "code",
      "execution_count": 16,
      "id": "8664d854",
      "metadata": {
        "colab": {
          "base_uri": "https://localhost:8080/"
        },
        "id": "8664d854",
        "outputId": "3c9fd0b4-ea26-4ed5-e6cf-a59900f98008"
      },
      "outputs": [
        {
          "output_type": "stream",
          "name": "stdout",
          "text": [
            "           a         b         c         d         e         f\n",
            "0   1.508632  1.013135  1.521069  1.861722  1.160680  7.065237\n",
            "1   1.767408  1.960792  1.557164  1.839847  1.295052  8.420263\n",
            "2   1.381581  1.399013  1.048660  1.030909  1.947778  6.807942\n",
            "3   1.157472  1.078500  1.874658  1.224270  1.496254  6.831154\n",
            "4   1.131241  1.058088  1.251354  1.745694  1.792918  6.979296\n",
            "5   1.527760  1.438549  1.959838  1.132631  1.622572  7.681350\n",
            "6   1.827915  1.643984  1.963063  1.454133  1.482682  8.371778\n",
            "7   1.476266  1.488803  1.578147  1.999254  1.298813  7.841282\n",
            "8   1.708086  1.567343  1.059986  1.855108  1.844662  8.035185\n",
            "9   1.750402  1.546698  1.416844  1.756562  1.577379  8.047886\n",
            "10  1.831995  1.916626  1.635565  1.823446  1.278692  8.486324\n",
            "11  1.649190  1.003340  1.667293  1.210212  1.837233  7.367269\n",
            "12  1.075995  1.665406  1.610483  1.543886  1.670739  7.566509\n",
            "13  1.477150  1.310423  1.662313  1.358849  1.274716  7.083451\n",
            "14  1.929384  1.987495  1.517303  1.969550  1.245750  8.649481\n",
            "15  1.165671  1.876503  1.109652  1.343605  1.697358  7.192790\n",
            "16  1.564418  1.156911  1.715233  1.103208  1.918976  7.458746\n",
            "17  1.016595  1.804395  1.640085  1.592463  1.785164  7.838701\n",
            "18  1.974992  1.721121  1.729171  1.136453  1.225504  7.787240\n",
            "19  1.045785  1.730202  1.473480  1.601607  1.641513  7.492588\n"
          ]
        }
      ],
      "source": [
        "# Created column f\n",
        "df['f'] = df.sum(axis = 1)\n",
        "print(df)"
      ]
    },
    {
      "cell_type": "code",
      "execution_count": 18,
      "id": "ed017c01",
      "metadata": {
        "colab": {
          "base_uri": "https://localhost:8080/"
        },
        "id": "ed017c01",
        "outputId": "db2b8bd5-d230-4c7e-d3f9-7f34eb7787f3"
      },
      "outputs": [
        {
          "output_type": "stream",
          "name": "stdout",
          "text": [
            "           a         b         c         d         e         f    g\n",
            "0   1.508632  1.013135  1.521069  1.861722  1.160680  7.065237  LT8\n",
            "1   1.767408  1.960792  1.557164  1.839847  1.295052  8.420263  GT8\n",
            "2   1.381581  1.399013  1.048660  1.030909  1.947778  6.807942  LT8\n",
            "3   1.157472  1.078500  1.874658  1.224270  1.496254  6.831154  LT8\n",
            "4   1.131241  1.058088  1.251354  1.745694  1.792918  6.979296  LT8\n",
            "5   1.527760  1.438549  1.959838  1.132631  1.622572  7.681350  LT8\n",
            "6   1.827915  1.643984  1.963063  1.454133  1.482682  8.371778  GT8\n",
            "7   1.476266  1.488803  1.578147  1.999254  1.298813  7.841282  LT8\n",
            "8   1.708086  1.567343  1.059986  1.855108  1.844662  8.035185  GT8\n",
            "9   1.750402  1.546698  1.416844  1.756562  1.577379  8.047886  GT8\n",
            "10  1.831995  1.916626  1.635565  1.823446  1.278692  8.486324  GT8\n",
            "11  1.649190  1.003340  1.667293  1.210212  1.837233  7.367269  LT8\n",
            "12  1.075995  1.665406  1.610483  1.543886  1.670739  7.566509  LT8\n",
            "13  1.477150  1.310423  1.662313  1.358849  1.274716  7.083451  LT8\n",
            "14  1.929384  1.987495  1.517303  1.969550  1.245750  8.649481  GT8\n",
            "15  1.165671  1.876503  1.109652  1.343605  1.697358  7.192790  LT8\n",
            "16  1.564418  1.156911  1.715233  1.103208  1.918976  7.458746  LT8\n",
            "17  1.016595  1.804395  1.640085  1.592463  1.785164  7.838701  LT8\n",
            "18  1.974992  1.721121  1.729171  1.136453  1.225504  7.787240  LT8\n",
            "19  1.045785  1.730202  1.473480  1.601607  1.641513  7.492588  LT8\n"
          ]
        }
      ],
      "source": [
        "# Create coulumn g\n",
        "def fun(num):\n",
        "  if(num < 8):\n",
        "    return \"LT8\"\n",
        "  else:\n",
        "    return \"GT8\"\n",
        "\n",
        "newcolg = df['f'].apply(fun)\n",
        "\n",
        "df['g'] = newcolg\n",
        "\n",
        "print(df)"
      ]
    },
    {
      "cell_type": "code",
      "execution_count": 19,
      "id": "0e3daf97",
      "metadata": {
        "colab": {
          "base_uri": "https://localhost:8080/"
        },
        "id": "0e3daf97",
        "outputId": "a7f6b261-d538-4199-887c-0bf86394bc22"
      },
      "outputs": [
        {
          "output_type": "stream",
          "name": "stdout",
          "text": [
            "14\n"
          ]
        }
      ],
      "source": [
        "#The number of rows in the dataframe where the value in the column “g” is “LT8”. \n",
        "num_rows = df['g'].value_counts()['LT8']\n",
        "print(num_rows)"
      ]
    },
    {
      "cell_type": "code",
      "execution_count": 28,
      "id": "042db801",
      "metadata": {
        "colab": {
          "base_uri": "https://localhost:8080/"
        },
        "id": "042db801",
        "outputId": "5fcec982-c49f-4862-e6d8-11edd67ec7c2"
      },
      "outputs": [
        {
          "output_type": "stream",
          "name": "stdout",
          "text": [
            "The standard deviation for the column f with LT8 only in g\n",
            "0.3655521806054572\n",
            "The standard deviation for the column f with GT8 only in g\n",
            "0.2460662175703554\n"
          ]
        }
      ],
      "source": [
        "# Calculating Standard deviation for the column f with LT8 and GT8 in column g respectively\n",
        "newdfwithLT8 = df[df['g'] == 'LT8']\n",
        "newdfwithGT8 = df[df['g'] == 'GT8']\n",
        "\n",
        "print(\"The standard deviation for the column f with LT8 only in g\")\n",
        "ans1 = newdfwithLT8['f'].std()\n",
        "print(ans1)\n",
        "\n",
        "print(\"The standard deviation for the column f with GT8 only in g\")\n",
        "ans2 = newdfwithGT8['f'].std()\n",
        "print(ans2)"
      ]
    },
    {
      "cell_type": "markdown",
      "source": [
        "## Q12 Write a small piece of code to explain broadcasting in numpy.\n"
      ],
      "metadata": {
        "id": "gJ7eZo2Xi6gD"
      },
      "id": "gJ7eZo2Xi6gD"
    },
    {
      "cell_type": "code",
      "source": [
        "# Broadcasting is the way to perform arthimetic operations on numpy arrays of different sizes by making it compatible with each other. The smaller sized\n",
        "# matrix is broadcasted or made compatible with the matrix of larger size. For the below case, the 1* 3 matrix is made compatible to be added to the 3 * 3 matrix\n",
        "# For eg:\n",
        "\n",
        "# A is a 3 * 3 matrix \n",
        "A = np.array([[1,2,3],[4,5,6],[7,8,9]])\n",
        "print(A,\"\\n\")\n",
        "\n",
        "# B is a 1 * 3 matrix\n",
        "B = np.array([1,1,1])\n",
        "print(B, \"\\n\")\n",
        "\n",
        "# The resulting matrix will be a 3 * 3 matrix with [1, 1, 1] being broadcasted into a 3 * 3 matrix.\n",
        "C = A + B\n",
        "print(C)"
      ],
      "metadata": {
        "colab": {
          "base_uri": "https://localhost:8080/"
        },
        "id": "ptHkCyPsjB_u",
        "outputId": "c868175e-0863-4935-8cd9-e900c590e2ba"
      },
      "id": "ptHkCyPsjB_u",
      "execution_count": 80,
      "outputs": [
        {
          "output_type": "stream",
          "name": "stdout",
          "text": [
            "[[1 2 3]\n",
            " [4 5 6]\n",
            " [7 8 9]] \n",
            "\n",
            "[1 1 1] \n",
            "\n",
            "[[ 2  3  4]\n",
            " [ 5  6  7]\n",
            " [ 8  9 10]]\n"
          ]
        }
      ]
    },
    {
      "cell_type": "markdown",
      "id": "3c19f550",
      "metadata": {
        "id": "3c19f550"
      },
      "source": [
        "## Q13 Write a function to compute the argmin of a numpy array. The function should take a numpy array as input and return the index of the minimum element. You can use the np.argmin function to verify your solution.\n"
      ]
    },
    {
      "cell_type": "code",
      "execution_count": null,
      "id": "ecb495e2",
      "metadata": {
        "id": "ecb495e2",
        "outputId": "05d079f9-86dc-4f1e-d1a2-b5d09f75fa7e"
      },
      "outputs": [
        {
          "name": "stdout",
          "output_type": "stream",
          "text": [
            "4\n",
            "4\n"
          ]
        }
      ],
      "source": [
        "miniEleInd = 0\n",
        "miniEle = 999999;\n",
        "def computeMinEleInd(arr):\n",
        "    mini = min(arr)\n",
        "    for i in range(0, len(arr)):\n",
        "        if(mini == arr[i]):\n",
        "            miniEleInd = i\n",
        "            break\n",
        "    return miniEleInd\n",
        "\n",
        "\n",
        "\n",
        "# Compute index of minimum element\n",
        "arr = np.array([5, 10, 12, 15, 1, 6, 99, 4])\n",
        "print(computeMinEleInd(arr))\n",
        "# print(ComputeMin(arr))\n",
        "print(np.argmin(arr))"
      ]
    },
    {
      "cell_type": "code",
      "execution_count": 81,
      "id": "a3aa5f23",
      "metadata": {
        "id": "a3aa5f23"
      },
      "outputs": [],
      "source": [
        "# Therefore our function and the argmin function returns the minimum element index."
      ]
    }
  ],
  "metadata": {
    "kernelspec": {
      "display_name": "Python 3 (ipykernel)",
      "language": "python",
      "name": "python3"
    },
    "language_info": {
      "codemirror_mode": {
        "name": "ipython",
        "version": 3
      },
      "file_extension": ".py",
      "mimetype": "text/x-python",
      "name": "python",
      "nbconvert_exporter": "python",
      "pygments_lexer": "ipython3",
      "version": "3.9.6"
    },
    "colab": {
      "provenance": []
    }
  },
  "nbformat": 4,
  "nbformat_minor": 5
}